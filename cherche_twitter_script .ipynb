{
 "cells": [
  {
   "cell_type": "code",
   "execution_count": 8,
   "metadata": {},
   "outputs": [],
   "source": [
    "import tweepy\n",
    "import re\n",
    "import pickle\n",
    "import tweepy.api"
   ]
  },
  {
   "cell_type": "markdown",
   "metadata": {},
   "source": [
    "### Nous avons essayé de récupérer des twitter avec script mais cette méthode ne marchais pas à cause du problème de API "
   ]
  },
  {
   "cell_type": "code",
   "execution_count": 10,
   "metadata": {},
   "outputs": [],
   "source": [
    "import requests\n",
    "from bs4 import BeautifulSoup\n",
    "import re\n"
   ]
  },
  {
   "cell_type": "code",
   "execution_count": 12,
   "metadata": {},
   "outputs": [],
   "source": [
    "mbti_types = [\n",
    "    \"ISTJ\", \"ISFJ\", \"INFJ\", \"INTJ\",\n",
    "    \"ISTP\", \"ISFP\", \"INFP\", \"INTP\",\n",
    "    \"ESTP\", \"ESFP\", \"ENFP\", \"ENTP\",\n",
    "    \"ESTJ\", \"ESFJ\", \"ENFJ\", \"ENTJ\"\n",
    "]"
   ]
  },
  {
   "cell_type": "code",
   "execution_count": 14,
   "metadata": {},
   "outputs": [
    {
     "name": "stdout",
     "output_type": "stream",
     "text": [
      "{}\n"
     ]
    }
   ],
   "source": [
    "\n",
    "corpus = {}\n",
    "\n",
    "# parcourir tous les type de MBTI\n",
    "for mbti_type in mbti_types:\n",
    "    search_query = f\"https://twitter.com/search?q=MBTI%20{mbti_type}&src=typed_query\"\n",
    "    response = requests.get(search_query)\n",
    "\n",
    "    if response.status_code == 200:\n",
    "        page = response.text\n",
    "        soup = BeautifulSoup(page, 'html.parser')\n",
    "\n",
    "        # chercher des twitter comportant le type MBTI \n",
    "        tweet_elements = soup.find_all(\"div\", string=re.compile(fr\"(?i).*\\b{mbti_type}\\b.*\"))\n",
    "        \n",
    "        for tweet_element in tweet_elements:\n",
    "            tweet_text = tweet_element.get_text()\n",
    "\n",
    "            # Vérifiez si l'auteur mentionne son propre type de MBTI.\n",
    "            if re.search(fr\"(?i)\\bje suis {mbti_type}\\b\", tweet_text):\n",
    "                # récupérer username\n",
    "                author_username = tweet_element.find_previous(\"a\", class_=\"css-4rbku5 css-18t94o4 css-901oao r-1re7ezh r-1loqt21 r-1q142lx r-1qd0xha r-a023e6 r-16dba41 r-ad9z0x r-bcqeeo r-bnwqim r-qvutc0\").get_text()\n",
    "                # trouve son page Twitter \n",
    "                author_profile_url = \"https://twitter.com/\" + author_username\n",
    "                \n",
    "                author_tweets = []\n",
    "\n",
    "                # récupérer 50 twitter de ce user\n",
    "                author_response = requests.get(author_profile_url)\n",
    "                if author_response.status_code == 200:\n",
    "                    author_page = author_response.text\n",
    "                    author_soup = BeautifulSoup(author_page, 'html.parser')\n",
    "                    author_tweets_elements = author_soup.find_all(\"div\", class_=\"css-901oao r-1re7ezh r-1q142lx r-1qd0xha r-a023e6 r-16dba41 r-ad9z0x r-bcqeeo r-bnwqim r-qvutc0\")\n",
    "\n",
    "                    for author_tweet_element in author_tweets_elements:\n",
    "                        author_tweets.append(author_tweet_element.get_text())\n",
    "\n",
    "            \n",
    "                corpus[author_username] = {\"type\": mbti_type, \"tweets\": author_tweets}\n",
    "\n",
    "\n",
    "print(corpus)"
   ]
  },
  {
   "cell_type": "code",
   "execution_count": null,
   "metadata": {},
   "outputs": [],
   "source": []
  },
  {
   "cell_type": "code",
   "execution_count": null,
   "metadata": {},
   "outputs": [],
   "source": []
  },
  {
   "cell_type": "markdown",
   "metadata": {},
   "source": []
  }
 ],
 "metadata": {
  "kernelspec": {
   "display_name": "Python 3",
   "language": "python",
   "name": "python3"
  },
  "language_info": {
   "codemirror_mode": {
    "name": "ipython",
    "version": 3
   },
   "file_extension": ".py",
   "mimetype": "text/x-python",
   "name": "python",
   "nbconvert_exporter": "python",
   "pygments_lexer": "ipython3",
   "version": "3.11.3"
  }
 },
 "nbformat": 4,
 "nbformat_minor": 2
}
