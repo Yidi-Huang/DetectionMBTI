{
 "cells": [
  {
   "cell_type": "markdown",
   "metadata": {},
   "source": [
    "# 1. Import CSV"
   ]
  },
  {
   "cell_type": "code",
   "execution_count": 83,
   "metadata": {},
   "outputs": [
    {
     "name": "stdout",
     "output_type": "stream",
     "text": [
      "    GOLD EI NS FT PJ                                           vacances  \\\n",
      "0   INFP  I  N  F  P  J'aime beaucoup voyager (que cela soit en Fran...   \n",
      "1   ENFP  E  N  F  P  Je préfère les voyages de vacances non planifi...   \n",
      "2   INTJ  I  N  T  P  aller dans des endroits / lieux visuellement b...   \n",
      "3   INFJ  E  N  F  P  Partir dans un endroit que je ne connais pas, ...   \n",
      "4   INTP  I  N  T  P  Mon type de vacances préféré est lorsque je re...   \n",
      "..   ... .. .. .. ..                                                ...   \n",
      "60  ESTJ  E  S  T  J  Sortir avec des amis qui forment une équipe bi...   \n",
      "61  ENFJ  I  N  F  P  J’aime bien trouver des lieux pas très populai...   \n",
      "62  ISTP  E  S  F  P  J’aime bien les vacances chills. J’aime bien a...   \n",
      "63  ISTJ  I  S  T  J  Si j'ai plus ou moins un mois pour les vacance...   \n",
      "64  INFP  I  N  F  P  Partir en vacances avec quelques amis, dans un...   \n",
      "\n",
      "                                          Passe-temps  \n",
      "0   J'aime beaucoup écrire, apprendre des langues ...  \n",
      "1   Mes activités préférées sont la danse et le vi...  \n",
      "2   me promener dans Paris, faire les magasins, tr...  \n",
      "3   - les travaux manuels : acquérir une compétenc...  \n",
      "4   J'apprécie énormément découvrir (et donc regar...  \n",
      "..                                                ...  \n",
      "60  Rester chez moi quand je suis fatiguée, sinon ...  \n",
      "61  Les vacances à l’étranger, un lieu personne ne...  \n",
      "62  Normalement j’aime bien rester à la maison et ...  \n",
      "63  Je vais rester à la maison pour écouter de la ...  \n",
      "64  Je préfère écouter de la musique, lire, jouer ...  \n",
      "\n",
      "[65 rows x 7 columns]\n"
     ]
    }
   ],
   "source": [
    "import pandas as pd\n",
    "\n",
    "df = pd.read_csv('annote_yidi.csv')\n",
    "\n",
    "\n",
    "print(df)\n"
   ]
  },
  {
   "cell_type": "code",
   "execution_count": null,
   "metadata": {},
   "outputs": [],
   "source": [
    "import pandas as pd\n",
    "import matplotlib.pyplot as plt\n",
    "\n",
    "def count_and_plot_pie_charts_with_tables(csv_filename, column_number):\n",
    "    df = pd.read_csv(csv_filename)\n",
    "\n",
    "    col_name = df.columns[column_number]\n",
    "\n",
    "    df[f'{col_name}_1'] = df[col_name].str[0]\n",
    "    df[f'{col_name}_2'] = df[col_name].str[1]\n",
    "    df[f'{col_name}_3'] = df[col_name].str[2]\n",
    "    df[f'{col_name}_4'] = df[col_name].str[3]\n",
    "\n",
    "    for i in range(1, 5):\n",
    "        part_name = f'{col_name}_{i}'\n",
    "        value_counts = df[part_name].value_counts()\n",
    "\n",
    "        clear_yellow = '#FFFF66'\n",
    "        clear_blue = '#66B3FF'\n",
    "        colors = [clear_yellow, clear_blue]\n",
    "\n",
    "        fig, ax = plt.subplots(figsize=(6, 6))\n",
    "        ax.pie(value_counts, labels=value_counts.index, autopct='%1.1f%%', startangle=140, colors=colors,\n",
    "                textprops={'fontsize': 14})  \n",
    "\n",
    "        values = ', '.join(value_counts.index[:2]) \n",
    "        ax.set_title(f\"Repartition de {values} dans le corpus\", fontsize=16)\n",
    "\n",
    "        table_data = [(value, count) for value, count in zip(value_counts.index, value_counts)]\n",
    "        table = plt.table(cellText=table_data, cellLoc='center', loc='bottom', colLabels=['Catégorie', 'Fréquence'])\n",
    "        table.auto_set_font_size(False)\n",
    "        table.set_fontsize(10)\n",
    "        table.scale(1, 1.2)\n",
    "\n",
    "        plt.subplots_adjust(top=0.8) \n",
    "\n",
    "        plt.show()\n",
    "\n",
    "count_and_plot_pie_charts_with_tables('annote_yidi.csv', 0)\n"
   ]
  },
  {
   "cell_type": "markdown",
   "metadata": {},
   "source": [
    "# 3. Accuracy"
   ]
  },
  {
   "cell_type": "code",
   "execution_count": 101,
   "metadata": {},
   "outputs": [],
   "source": [
    "import pandas as pd\n",
    "def accuracy_ei_ponderer(csv_filename):\n",
    "    \n",
    "    I=38\n",
    "    E=27\n",
    "\n",
    "\n",
    "    df = pd.read_csv(csv_filename)\n",
    "\n",
    "    e_correct_annotations = 0\n",
    "    i_correct_annotations = 0\n",
    "\n",
    "    for index, row in df.iterrows():\n",
    "        GOLD = row['GOLD']\n",
    "        test = row['EI']\n",
    "\n",
    "        if 'E' in GOLD and 'E' in test:\n",
    "            e_correct_annotations += 1\n",
    "        elif 'I' in test and 'I' in GOLD:\n",
    "            i_correct_annotations +=1\n",
    "\n",
    "\n",
    "        e_accuracy = (e_correct_annotations / E) * 100\n",
    "        i_accuracy= (i_correct_annotations/I)*100\n",
    "\n",
    "        EI_ac_pond = (e_accuracy*E+i_accuracy*I)/(E+I)\n",
    "    return EI_ac_pond\n",
    "\n",
    "def accuracy_NS_ponderer(csv_filename):\n",
    "    \n",
    "    N=51\n",
    "    S=14\n",
    "\n",
    "\n",
    "    df = pd.read_csv(csv_filename)\n",
    "\n",
    "    N_correct_annotations = 0\n",
    "    S_correct_annotations = 0\n",
    "\n",
    "    for index, row in df.iterrows():\n",
    "        GOLD = row['GOLD']\n",
    "        test = row['NS']\n",
    "\n",
    "        if 'N' in GOLD and 'N' in test:\n",
    "            N_correct_annotations += 1\n",
    "        elif 'S' in test and 'S' in GOLD:\n",
    "            S_correct_annotations +=1\n",
    "\n",
    "\n",
    "        S_accuracy = (S_correct_annotations / S) * 100\n",
    "        N_accuracy= (N_correct_annotations/N)*100\n",
    "\n",
    "        NS_ac_pond = (S_accuracy*S+N_accuracy*N)/(N+S)\n",
    "    return NS_ac_pond\n",
    "\n",
    "def accuracy_PJ_ponderer(csv_filename):\n",
    "    \n",
    "    P=32\n",
    "    J=33\n",
    "\n",
    "\n",
    "    df = pd.read_csv(csv_filename)\n",
    "\n",
    "    P_correct_annotations = 0\n",
    "    J_correct_annotations = 0\n",
    "\n",
    "    for index, row in df.iterrows():\n",
    "        GOLD = row['GOLD']\n",
    "        test = row['PJ']\n",
    "\n",
    "        if 'P' in GOLD and 'P' in test:\n",
    "            P_correct_annotations += 1\n",
    "        elif 'J' in test and 'J' in GOLD:\n",
    "            J_correct_annotations +=1\n",
    "\n",
    "\n",
    "        P_accuracy = (P_correct_annotations / P) * 100\n",
    "        J_accuracy= (J_correct_annotations/J)*100\n",
    "\n",
    "        PJ_ac_pond = (P_accuracy*P+J_accuracy*J)/(P+J)\n",
    "    return PJ_ac_pond\n",
    "\n",
    "def accuracy_FT_ponderer(csv_filename):\n",
    "    \n",
    "    F=43\n",
    "    T=22\n",
    "\n",
    "\n",
    "    df = pd.read_csv(csv_filename)\n",
    "\n",
    "    F_correct_annotations = 0\n",
    "    T_correct_annotations = 0\n",
    "\n",
    "    for index, row in df.iterrows():\n",
    "        GOLD = row['GOLD']\n",
    "        test = row['FT']\n",
    "\n",
    "        if 'F' in GOLD and 'F' in test:\n",
    "            F_correct_annotations += 1\n",
    "        elif 'T' in test and 'T' in GOLD:\n",
    "            T_correct_annotations +=1\n",
    "\n",
    "\n",
    "        F_accuracy = (F_correct_annotations / F) * 100\n",
    "        T_accuracy= (T_correct_annotations/T)*100\n",
    "\n",
    "        FT_ac_pond = (F_accuracy*F+T_accuracy*T)/(T+F)\n",
    "    return FT_ac_pond\n"
   ]
  },
  {
   "cell_type": "code",
   "execution_count": 106,
   "metadata": {},
   "outputs": [
    {
     "name": "stdout",
     "output_type": "stream",
     "text": [
      "81.53846153846153 76.92307692307692 86.15384615384616 86.15384615384616\n",
      "81.53846153846153 84.61538461538461 63.07692307692308 64.61538461538461\n"
     ]
    }
   ],
   "source": [
    "EI1=accuracy_ei_ponderer('annote_yidi.csv')\n",
    "EI2=accuracy_ei_ponderer('annote_kexin.csv')\n",
    "NS2=accuracy_NS_ponderer('annote_kexin.csv')\n",
    "NS1=accuracy_NS_ponderer('annote_yidi.csv')\n",
    "FT1=accuracy_FT_ponderer('annote_yidi.csv')\n",
    "FT2=accuracy_FT_ponderer('annote_kexin.csv')\n",
    "PJ1=accuracy_PJ_ponderer('annote_yidi.csv')\n",
    "PJ2=accuracy_PJ_ponderer('annote_kexin.csv')\n",
    "\n",
    "\n",
    "\n",
    "print(EI1,EI2,NS1,NS2)\n",
    "print(FT1,FT2,PJ1,PJ2)"
   ]
  },
  {
   "cell_type": "code",
   "execution_count": null,
   "metadata": {},
   "outputs": [],
   "source": [
    "import matplotlib.pyplot as plt\n",
    "import numpy as np\n",
    "\n",
    "# Sample data (replace with your actual values)\n",
    "data = {\n",
    "    'Category': ['EI', 'NS', 'FT', 'PJ'],\n",
    "    'Annotatrice1': [EI1, NS1, FT1, PJ1],\n",
    "    'Annotatrice2': [EI2, NS2, FT2, PJ2]\n",
    "}\n",
    "\n",
    "# Create a DataFrame from the data\n",
    "df = pd.DataFrame(data)\n",
    "\n",
    "# Set the x-axis labels\n",
    "x_labels = df['Category']\n",
    "x = np.arange(len(x_labels))  # X-axis values\n",
    "\n",
    "# Set the data for plotting\n",
    "width = 0.35  # Width of each bar\n",
    "\n",
    "# Create subplots for each category\n",
    "fig, ax = plt.subplots(figsize=(10, 6))  # Adjust the figure size (width, height)\n",
    "\n",
    "# Define colors for each dataset (yellow and lighter blue)\n",
    "colors = ['gold', 'lightsteelblue']\n",
    "\n",
    "# Create bars for each category and dataset with different colors\n",
    "for i, col in enumerate(['Annotatrice1', 'Annotatrice2']):\n",
    "    values = df[col]\n",
    "    bar_positions = x + i * width  # Adjust bar positions for each dataset\n",
    "    ax.bar(bar_positions, values, width, label=col, color=colors[i])\n",
    "\n",
    "    # Add value numbers slightly to the left within each column's bar\n",
    "    for j, value in enumerate(values):\n",
    "        text_x = bar_positions[j] + width / 2 - 0.2 # Adjust the x-coordinate to move slightly to the left\n",
    "        ax.text(text_x, value, f'{value:.2f}', ha='center', va='bottom', fontsize=12)\n",
    "\n",
    "# Adjust the x-ticks and labels\n",
    "ax.set_xticks(x + width / 2)\n",
    "ax.set_xticklabels(x_labels, fontsize=14)  # Increase the size of letters\n",
    "ax.set_xlabel('Catégories', fontsize=14)  # Increase the size of the x-axis label\n",
    "ax.set_ylabel('Accuracy', fontsize=14)  # Increase the size of the y-axis label\n",
    "\n",
    "# Set the title and legend\n",
    "ax.set_title('Accuracy pondéré par 2 annotatrices', fontsize=16)  # Increase the size of the title\n",
    "ax.legend(fontsize=12)  # Increase the size of the legend\n",
    "\n",
    "# Show the plot\n",
    "plt.tight_layout()  # Ensure the plot fits within the figure size\n",
    "plt.show()\n"
   ]
  },
  {
   "cell_type": "markdown",
   "metadata": {},
   "source": [
    "# AIA"
   ]
  },
  {
   "cell_type": "code",
   "execution_count": 155,
   "metadata": {},
   "outputs": [
    {
     "name": "stdout",
     "output_type": "stream",
     "text": [
      "Probabilité d'accord (Po) : 0.8\n",
      "Probabilité d'accord simultané (Pe) : 0.6698224852071006\n",
      "kappa : 0.39426523297491045\n"
     ]
    },
    {
     "data": {
      "image/png": "[encoded data removed]",
      "text/plain": [
       "<Figure size 432x288 with 1 Axes>"
      ]
     },
     "metadata": {
      "needs_background": "light"
     },
     "output_type": "display_data"
    }
   ],
   "source": [
    "def AIA(test_colone):\n",
    "    df1 = pd.read_csv('annote_yidi.csv')\n",
    "    df2 = pd.read_csv('annote_kexin.csv')\n",
    "\n",
    "    A,B,C,D=0,0,0,0\n",
    "    for index, row1 in df1.iterrows():\n",
    "        GOLD = row1['GOLD']\n",
    "        test1 = row1[test_colone]\n",
    "\n",
    "        row2 = df2.iloc[index] \n",
    "        test2 = row2[test_colone]\n",
    "\n",
    "        if test1 in GOLD and test2 in GOLD :\n",
    "            A+=1\n",
    "        elif test1 in GOLD and test2 not in GOLD:\n",
    "            B+=1\n",
    "        elif test1 not in GOLD and test2 in GOLD :\n",
    "            C+=1\n",
    "        elif test1 not in GOLD and test2 not in GOLD :\n",
    "            D+=1\n",
    "    Po=(A+D)/(A+B+C+D)\n",
    "    Oui= (A+C)/(A+B+C+D)*(A+B)/(A+B+C+D)\n",
    "    Non=(B+D)/(A+B+C+D)*(C+D)/(A+B+C+D)\n",
    "    Pe=Oui+Non\n",
    "    Kappa = (Po-Pe)/(1-Pe)\n",
    "\n",
    "    print(f\"Probabilité d'accord (Po) : {Po}\\nProbabilité d'accord simultané (Pe) : {Pe}\\nkappa : {Kappa}\")\n",
    "    \n",
    "    matrice = [['', '', 'Annotatrice 1', 'Annotatrice 1'],\n",
    "           ['', '', 'Oui', 'Non',],\n",
    "           ['Annotatrice 2', 'Oui', A, B],\n",
    "           ['Annotatrice 2', 'Non', C, D]]\n",
    "\n",
    "    fig, ax = plt.subplots()\n",
    "    ax.axis('off')  # Masquez les axes\n",
    "\n",
    "    # Créez un tableau pour afficher la matrice\n",
    "    table = plt.table(cellText=matrice, cellLoc='center', loc='center')\n",
    "    table.auto_set_font_size(False)\n",
    "    table.set_fontsize(10)\n",
    "    table.scale(1, 1.2)\n",
    "\n",
    "    # Affichez le plot\n",
    "    plt.show()\n",
    "\n",
    "\n",
    "\n",
    "\n",
    "(AIA('EI'))    "
   ]
  },
  {
   "cell_type": "code",
   "execution_count": 156,
   "metadata": {},
   "outputs": [
    {
     "name": "stdout",
     "output_type": "stream",
     "text": [
      "Probabilité d'accord (Po) : 0.8153846153846154\n",
      "Probabilité d'accord simultané (Pe) : 0.7614201183431953\n",
      "kappa : 0.22619047619047591\n"
     ]
    },
    {
     "data": {
      "image/png": "[encoded data removed]",
      "text/plain": [
       "<Figure size 432x288 with 1 Axes>"
      ]
     },
     "metadata": {
      "needs_background": "light"
     },
     "output_type": "display_data"
    },
    {
     "name": "stdout",
     "output_type": "stream",
     "text": [
      "Probabilité d'accord (Po) : 0.7538461538461538\n",
      "Probabilité d'accord simultané (Pe) : 0.7183431952662722\n",
      "kappa : 0.12605042016806708\n"
     ]
    },
    {
     "data": {
      "image/png": "[encoded data removed]",
      "text/plain": [
       "<Figure size 432x288 with 1 Axes>"
      ]
     },
     "metadata": {
      "needs_background": "light"
     },
     "output_type": "display_data"
    },
    {
     "name": "stdout",
     "output_type": "stream",
     "text": [
      "Probabilité d'accord (Po) : 0.6615384615384615\n",
      "Probabilité d'accord simultané (Pe) : 0.5342011834319527\n",
      "kappa : 0.27337398373983735\n"
     ]
    },
    {
     "data": {
      "image/png": "[encoded data removed]",
      "text/plain": [
       "<Figure size 432x288 with 1 Axes>"
      ]
     },
     "metadata": {
      "needs_background": "light"
     },
     "output_type": "display_data"
    }
   ],
   "source": [
    "AIA('NS')\n",
    "AIA('FT')\n",
    "AIA('PJ')"
   ]
  },
  {
   "cell_type": "code",
   "execution_count": null,
   "metadata": {},
   "outputs": [],
   "source": []
  }
 ],
 "metadata": {
  "kernelspec": {
   "display_name": "Python 3",
   "language": "python",
   "name": "python3"
  },
  "language_info": {
   "codemirror_mode": {
    "name": "ipython",
    "version": 3
   },
   "file_extension": ".py",
   "mimetype": "text/x-python",
   "name": "python",
   "nbconvert_exporter": "python",
   "pygments_lexer": "ipython3",
   "version": "3.10.12"
  }
 },
 "nbformat": 4,
 "nbformat_minor": 2
}
